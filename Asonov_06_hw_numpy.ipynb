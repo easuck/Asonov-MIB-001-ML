{
  "cells": [
    {
      "cell_type": "markdown",
      "metadata": {
        "id": "view-in-github",
        "colab_type": "text"
      },
      "source": [
        "<a href=\"https://colab.research.google.com/github/easuck/Asonov-MIB-001-ML/blob/main/Asonov_06_hw_numpy.ipynb\" target=\"_parent\"><img src=\"https://colab.research.google.com/assets/colab-badge.svg\" alt=\"Open In Colab\"/></a>"
      ]
    },
    {
      "cell_type": "markdown",
      "metadata": {
        "id": "KbGT7cbszM8E"
      },
      "source": [
        "# Worshop 2.1 Numpy\n",
        "\n",
        "1. Скачайте этот ноутбук к себе.\n",
        "2. Заполните пропущенные ячейки, отвечая на заданные вопросы. Там должен быть код! (если не сказано обратное)\n",
        "3. Сохраните результат в своём гитхаб репозитории.\n",
        "\n",
        "#### Полезная литература\n",
        "\n",
        "- http://www.numpy.org/\n",
        "- https://jakevdp.github.io/PythonDataScienceHandbook/02.00-introduction-to-numpy.html\n",
        "- https://docs.scipy.org/doc/numpy/user/quickstart.html"
      ]
    },
    {
      "cell_type": "markdown",
      "metadata": {
        "id": "gBze6nL3zM8F"
      },
      "source": [
        "1) Импортировать numpy и написать версию"
      ]
    },
    {
      "cell_type": "code",
      "execution_count": null,
      "metadata": {
        "colab": {
          "base_uri": "https://localhost:8080/",
          "height": 35
        },
        "id": "duupQXNMzM8G",
        "outputId": "467da133-948c-4828-ecf4-f96d98cb3b9f"
      },
      "outputs": [
        {
          "output_type": "execute_result",
          "data": {
            "text/plain": [
              "'1.21.6'"
            ],
            "application/vnd.google.colaboratory.intrinsic+json": {
              "type": "string"
            }
          },
          "metadata": {},
          "execution_count": 3
        }
      ],
      "source": [
        "import numpy as np\n",
        "np.__version__"
      ]
    },
    {
      "cell_type": "markdown",
      "metadata": {
        "id": "Oe1CiVnBzM8G"
      },
      "source": [
        "2) Создать нулевой вектор размера 10"
      ]
    },
    {
      "cell_type": "code",
      "execution_count": null,
      "metadata": {
        "colab": {
          "base_uri": "https://localhost:8080/"
        },
        "id": "Z5E1cX4SzM8H",
        "outputId": "47f69eeb-902f-4e8e-c981-bc2f725130aa"
      },
      "outputs": [
        {
          "output_type": "execute_result",
          "data": {
            "text/plain": [
              "array([[0., 0., 0., 0., 0., 0., 0., 0., 0., 0.]])"
            ]
          },
          "metadata": {},
          "execution_count": 6
        }
      ],
      "source": [
        "import numpy as np\n",
        "np.zeros((1,10))"
      ]
    },
    {
      "cell_type": "markdown",
      "metadata": {
        "id": "p04eG-rxzM8H"
      },
      "source": [
        "3) Создать вектор заполненный 7-ами размера 7"
      ]
    },
    {
      "cell_type": "code",
      "execution_count": null,
      "metadata": {
        "colab": {
          "base_uri": "https://localhost:8080/"
        },
        "id": "qauUEJyezM8H",
        "outputId": "4ee19a3f-4366-4e0a-b75e-f7734032d98e"
      },
      "outputs": [
        {
          "output_type": "execute_result",
          "data": {
            "text/plain": [
              "array([[7, 7, 7, 7, 7, 7, 7]])"
            ]
          },
          "metadata": {},
          "execution_count": 7
        }
      ],
      "source": [
        "import numpy as np\n",
        "np.full((1,7), 7)"
      ]
    },
    {
      "cell_type": "markdown",
      "metadata": {
        "id": "e4v6Iz5OzM8I"
      },
      "source": [
        "4) Создать вектор заполненный четными числами от 10 до 100"
      ]
    },
    {
      "cell_type": "code",
      "execution_count": null,
      "metadata": {
        "colab": {
          "base_uri": "https://localhost:8080/"
        },
        "id": "udoMAjrFzM8I",
        "outputId": "830a75b4-852b-476d-d317-978e0917d43e"
      },
      "outputs": [
        {
          "output_type": "execute_result",
          "data": {
            "text/plain": [
              "array([ 10.,  12.,  14.,  16.,  18.,  20.,  22.,  24.,  26.,  28.,  30.,\n",
              "        32.,  34.,  36.,  38.,  40.,  42.,  44.,  46.,  48.,  50.,  52.,\n",
              "        54.,  56.,  58.,  60.,  62.,  64.,  66.,  68.,  70.,  72.,  74.,\n",
              "        76.,  78.,  80.,  82.,  84.,  86.,  88.,  90.,  92.,  94.,  96.,\n",
              "        98., 100.])"
            ]
          },
          "metadata": {},
          "execution_count": 8
        }
      ],
      "source": [
        "import numpy as np\n",
        "np.linspace(10,100,46)"
      ]
    },
    {
      "cell_type": "markdown",
      "metadata": {
        "id": "X87Y0dJGzM8I"
      },
      "source": [
        "5) Создать массив случайных чисел и развернуть его задом наперёд"
      ]
    },
    {
      "cell_type": "code",
      "execution_count": null,
      "metadata": {
        "colab": {
          "base_uri": "https://localhost:8080/"
        },
        "id": "qEJ_tFbdzM8J",
        "outputId": "643561ca-d039-4cf6-fe70-a94f21c8ff02"
      },
      "outputs": [
        {
          "output_type": "stream",
          "name": "stdout",
          "text": [
            "[0.78850271 0.44862345 0.81284369 0.335589   0.74033052]\n"
          ]
        },
        {
          "output_type": "execute_result",
          "data": {
            "text/plain": [
              "array([0.74033052, 0.335589  , 0.81284369, 0.44862345, 0.78850271])"
            ]
          },
          "metadata": {},
          "execution_count": 14
        }
      ],
      "source": [
        "import numpy as np\n",
        "arr = np.random.rand(5)\n",
        "print(arr)\n",
        "arr[::-1]"
      ]
    },
    {
      "cell_type": "markdown",
      "metadata": {
        "id": "yTqXtspazM8J"
      },
      "source": [
        "6) Создать двумерную матрицу размера 3 на 3, заполненную числами от 0 до 9"
      ]
    },
    {
      "cell_type": "code",
      "execution_count": null,
      "metadata": {
        "colab": {
          "base_uri": "https://localhost:8080/"
        },
        "id": "tsbP3kvAzM8J",
        "outputId": "983d30ef-8282-462e-c111-4243f3988c1d"
      },
      "outputs": [
        {
          "output_type": "execute_result",
          "data": {
            "text/plain": [
              "array([[0, 1, 2],\n",
              "       [3, 4, 5],\n",
              "       [6, 7, 8]])"
            ]
          },
          "metadata": {},
          "execution_count": 16
        }
      ],
      "source": [
        "np.arange(0,9).reshape(3,3)"
      ]
    },
    {
      "cell_type": "markdown",
      "metadata": {
        "id": "GGJs3TbPzM8J"
      },
      "source": [
        "7) Создать матрицу размера 4 на 4 с единицами на диагонали смещеной на один наверх."
      ]
    },
    {
      "cell_type": "code",
      "execution_count": null,
      "metadata": {
        "colab": {
          "base_uri": "https://localhost:8080/"
        },
        "id": "fPG0RADHzM8K",
        "outputId": "4e96c00c-751d-4bb7-f8af-177daedb0cc7"
      },
      "outputs": [
        {
          "output_type": "execute_result",
          "data": {
            "text/plain": [
              "array([[0., 1., 0., 0.],\n",
              "       [0., 0., 1., 0.],\n",
              "       [0., 0., 0., 1.],\n",
              "       [0., 0., 0., 0.]])"
            ]
          },
          "metadata": {},
          "execution_count": 17
        }
      ],
      "source": [
        "np.eye(4, k=1)"
      ]
    },
    {
      "cell_type": "markdown",
      "metadata": {
        "id": "4x7Itxq3zM8K"
      },
      "source": [
        "8) Создать матрицу с числами в диапазоне от 1 до 4 по диагонали. В других ячейках матрицы должны быть семерки."
      ]
    },
    {
      "cell_type": "code",
      "execution_count": null,
      "metadata": {
        "colab": {
          "base_uri": "https://localhost:8080/"
        },
        "id": "dTyiuncOzM8K",
        "outputId": "2055e07a-befb-41d0-d6fd-051f9d5768bc"
      },
      "outputs": [
        {
          "output_type": "stream",
          "name": "stdout",
          "text": [
            "[[1 7 7 7]\n",
            " [7 2 7 7]\n",
            " [7 7 3 7]\n",
            " [7 7 7 4]]\n"
          ]
        }
      ],
      "source": [
        "arr = np.full((4,4),7)\n",
        "arr[0,0] = 1\n",
        "arr[1,1] = 2\n",
        "arr[2,2] = 3\n",
        "arr[3,3] = 4\n",
        "print(arr)"
      ]
    },
    {
      "cell_type": "markdown",
      "metadata": {
        "id": "nVyo4dl5zM8K"
      },
      "source": [
        "9) Создать матрицу размера 5 на 5 заполненную чилами от 0 до 4 в строках."
      ]
    },
    {
      "cell_type": "code",
      "execution_count": null,
      "metadata": {
        "colab": {
          "base_uri": "https://localhost:8080/"
        },
        "id": "0nX4LfdQzM8L",
        "outputId": "ba69093d-c7c3-4f58-8448-b067831c2f95"
      },
      "outputs": [
        {
          "output_type": "stream",
          "name": "stdout",
          "text": [
            "[[0. 1. 2. 3. 4.]\n",
            " [0. 1. 2. 3. 4.]\n",
            " [0. 1. 2. 3. 4.]\n",
            " [0. 1. 2. 3. 4.]\n",
            " [0. 1. 2. 3. 4.]]\n"
          ]
        }
      ],
      "source": [
        "arr = np.zeros((5,5))\n",
        "arr += np.arange(5)\n",
        "print(arr)"
      ]
    },
    {
      "cell_type": "markdown",
      "metadata": {
        "id": "AAAcJx-izM8L"
      },
      "source": [
        "10) Создать матрицу случайных чисел размера 10 на 10 и отнять среднее по строкам из каждого элемента строки"
      ]
    },
    {
      "cell_type": "code",
      "execution_count": null,
      "metadata": {
        "colab": {
          "base_uri": "https://localhost:8080/"
        },
        "id": "nMA7lPsqzM8L",
        "outputId": "c7e75fe0-fd78-40a4-84ff-018c1fe4da39"
      },
      "outputs": [
        {
          "output_type": "stream",
          "name": "stdout",
          "text": [
            "[[7 5 0 4 1 0 3 4 9 3]\n",
            " [2 5 7 7 3 9 7 2 7 2]\n",
            " [1 9 1 4 9 5 7 9 6 7]\n",
            " [4 9 7 2 8 1 0 3 6 1]\n",
            " [1 5 8 5 4 1 2 5 2 8]\n",
            " [1 3 4 0 7 4 3 7 2 6]\n",
            " [2 1 3 6 0 1 1 6 8 7]\n",
            " [2 1 3 9 4 1 0 5 9 7]\n",
            " [3 0 1 9 5 1 8 1 8 8]\n",
            " [5 1 2 8 9 5 1 5 7 2]]\n"
          ]
        },
        {
          "output_type": "execute_result",
          "data": {
            "text/plain": [
              "array([[ 3.4,  1.4, -3.6,  0.4, -2.6, -3.6, -0.6,  0.4,  5.4, -0.6],\n",
              "       [-3.1, -0.1,  1.9,  1.9, -2.1,  3.9,  1.9, -3.1,  1.9, -3.1],\n",
              "       [-4.8,  3.2, -4.8, -1.8,  3.2, -0.8,  1.2,  3.2,  0.2,  1.2],\n",
              "       [-0.1,  4.9,  2.9, -2.1,  3.9, -3.1, -4.1, -1.1,  1.9, -3.1],\n",
              "       [-3.1,  0.9,  3.9,  0.9, -0.1, -3.1, -2.1,  0.9, -2.1,  3.9],\n",
              "       [-2.7, -0.7,  0.3, -3.7,  3.3,  0.3, -0.7,  3.3, -1.7,  2.3],\n",
              "       [-1.5, -2.5, -0.5,  2.5, -3.5, -2.5, -2.5,  2.5,  4.5,  3.5],\n",
              "       [-2.1, -3.1, -1.1,  4.9, -0.1, -3.1, -4.1,  0.9,  4.9,  2.9],\n",
              "       [-1.4, -4.4, -3.4,  4.6,  0.6, -3.4,  3.6, -3.4,  3.6,  3.6],\n",
              "       [ 0.5, -3.5, -2.5,  3.5,  4.5,  0.5, -3.5,  0.5,  2.5, -2.5]])"
            ]
          },
          "metadata": {},
          "execution_count": 36
        }
      ],
      "source": [
        "arr = np.random.randint(0,10,size=(10,10))\n",
        "print(arr)\n",
        "arr - arr.mean(axis=1, keepdims = True)"
      ]
    },
    {
      "cell_type": "markdown",
      "metadata": {
        "id": "xEpVcpV4zM8L"
      },
      "source": [
        "11) Создать матрицу случайных чисел размера 10 на 10 и отнять медиану по столбцам из каждого элемента столбца  "
      ]
    },
    {
      "cell_type": "code",
      "execution_count": null,
      "metadata": {
        "colab": {
          "base_uri": "https://localhost:8080/"
        },
        "id": "HD9ghKpBzM8M",
        "outputId": "0cc53196-f70a-4bd4-844a-37ae70bf67b1"
      },
      "outputs": [
        {
          "output_type": "stream",
          "name": "stdout",
          "text": [
            "[[2 4 1 0 3 2 8 5 6 4]\n",
            " [1 1 0 6 0 3 7 5 5 8]\n",
            " [9 9 8 5 1 9 3 0 6 8]\n",
            " [7 7 0 6 5 8 2 9 1 3]\n",
            " [8 2 9 7 0 6 2 4 5 4]\n",
            " [2 4 7 1 7 5 8 4 2 0]\n",
            " [9 0 3 3 0 2 1 5 5 1]\n",
            " [1 5 0 6 8 1 6 2 0 7]\n",
            " [9 7 8 3 2 4 8 4 7 2]\n",
            " [9 0 5 0 5 3 9 0 2 5]]\n"
          ]
        },
        {
          "output_type": "execute_result",
          "data": {
            "text/plain": [
              "array([[-5.5,  0. , -3. , -4. ,  0.5, -1.5,  1.5,  1. ,  1. ,  0. ],\n",
              "       [-6.5, -3. , -4. ,  2. , -2.5, -0.5,  0.5,  1. ,  0. ,  4. ],\n",
              "       [ 1.5,  5. ,  4. ,  1. , -1.5,  5.5, -3.5, -4. ,  1. ,  4. ],\n",
              "       [-0.5,  3. , -4. ,  2. ,  2.5,  4.5, -4.5,  5. , -4. , -1. ],\n",
              "       [ 0.5, -2. ,  5. ,  3. , -2.5,  2.5, -4.5,  0. ,  0. ,  0. ],\n",
              "       [-5.5,  0. ,  3. , -3. ,  4.5,  1.5,  1.5,  0. , -3. , -4. ],\n",
              "       [ 1.5, -4. , -1. , -1. , -2.5, -1.5, -5.5,  1. ,  0. , -3. ],\n",
              "       [-6.5,  1. , -4. ,  2. ,  5.5, -2.5, -0.5, -2. , -5. ,  3. ],\n",
              "       [ 1.5,  3. ,  4. , -1. , -0.5,  0.5,  1.5,  0. ,  2. , -2. ],\n",
              "       [ 1.5, -4. ,  1. , -4. ,  2.5, -0.5,  2.5, -4. , -3. ,  1. ]])"
            ]
          },
          "metadata": {},
          "execution_count": 39
        }
      ],
      "source": [
        "arr = np.random.randint(0,10,size=(10,10))\n",
        "print(arr)\n",
        "arr - np.median(arr, axis=0, keepdims = True)"
      ]
    },
    {
      "cell_type": "markdown",
      "metadata": {
        "id": "L3k-yu_1zM8M"
      },
      "source": [
        "12) Создать матрицу случайных чисел 5x5. Добавить к ней столбецы максимумов и минимумов по строкам. Получится матрица 5x7.  "
      ]
    },
    {
      "cell_type": "code",
      "execution_count": null,
      "metadata": {
        "colab": {
          "base_uri": "https://localhost:8080/"
        },
        "id": "KXTzPMwdzM8M",
        "outputId": "79f5e376-2ba6-43b8-c621-827d8aee476e"
      },
      "outputs": [
        {
          "output_type": "stream",
          "name": "stdout",
          "text": [
            "[[5 3 0 3 6]\n",
            " [9 4 6 8 4]\n",
            " [1 4 1 5 1]\n",
            " [2 2 7 4 2]\n",
            " [1 7 9 4 6]]\n",
            "[[6]\n",
            " [9]\n",
            " [5]\n",
            " [7]\n",
            " [9]]\n",
            "[[0]\n",
            " [4]\n",
            " [1]\n",
            " [2]\n",
            " [1]]\n",
            "[[5 3 0 3 6 6 0]\n",
            " [9 4 6 8 4 9 4]\n",
            " [1 4 1 5 1 5 1]\n",
            " [2 2 7 4 2 7 2]\n",
            " [1 7 9 4 6 9 1]]\n"
          ]
        }
      ],
      "source": [
        "arr = np.random.randint(0,10,(5,5))\n",
        "print(arr)\n",
        "arrMax = np.amax(arr, axis = 1, keepdims = True)\n",
        "print(arrMax)\n",
        "arrMin = np.amin(arr, axis = 1, keepdims = True)\n",
        "print(arrMin)\n",
        "arr2 = np.concatenate((arr, arrMax, arrMin), axis = 1)\n",
        "print(arr2)"
      ]
    },
    {
      "cell_type": "markdown",
      "metadata": {
        "id": "DtmxFc1LzM8M"
      },
      "source": [
        "13) Вектор чисел от 1 до 51 преобразовать в вектор нечетных чисел и в вектор четных чисел, поменять их размерности, чтобы получились две матрица. Найти произведение этих матриц. Найти обратную матрицу эётого произведения.  "
      ]
    },
    {
      "cell_type": "code",
      "execution_count": null,
      "metadata": {
        "colab": {
          "base_uri": "https://localhost:8080/"
        },
        "id": "Ox_hW_EfzM8N",
        "outputId": "8b2de7d0-95b4-41b9-ea80-ba81f738f5a6"
      },
      "outputs": [
        {
          "output_type": "stream",
          "name": "stdout",
          "text": [
            "[[ 1  3  5  7  9]\n",
            " [11 13 15 17 19]\n",
            " [21 23 25 27 29]\n",
            " [31 33 35 37 39]\n",
            " [41 43 45 47 49]]\n",
            "[[ 2  4  6  8 10]\n",
            " [12 14 16 18 20]\n",
            " [22 24 26 28 30]\n",
            " [32 34 36 38 40]\n",
            " [42 44 46 48 50]]\n",
            "[[ 750  800  850  900  950]\n",
            " [1850 2000 2150 2300 2450]\n",
            " [2950 3200 3450 3700 3950]\n",
            " [4050 4400 4750 5100 5450]\n",
            " [5150 5600 6050 6500 6950]]\n"
          ]
        }
      ],
      "source": [
        "arr = np.arange(1,51)\n",
        "odd = arr[arr % 2 != 0].reshape((5,5))\n",
        "even = arr[arr % 2 != 1].reshape((5,5))\n",
        "print(odd)\n",
        "print(even)\n",
        "m = np.matmul(odd,even)\n",
        "print(m)\n",
        "#np.linalg.inv(m)"
      ]
    },
    {
      "cell_type": "markdown",
      "metadata": {
        "id": "iAuwKN5VzM8N"
      },
      "source": [
        "14) Создать 8x8 матрицу и заполнить её в шахматном порядке нулями и единицами. "
      ]
    },
    {
      "cell_type": "code",
      "execution_count": null,
      "metadata": {
        "colab": {
          "base_uri": "https://localhost:8080/"
        },
        "id": "E5nCpJwVzM8N",
        "outputId": "189be24c-3dc5-4978-ab5e-f9fcc508a81b"
      },
      "outputs": [
        {
          "output_type": "stream",
          "name": "stdout",
          "text": [
            "[[0. 1. 0. 1. 0. 1. 0. 1.]\n",
            " [1. 0. 1. 0. 1. 0. 1. 0.]\n",
            " [0. 1. 0. 1. 0. 1. 0. 1.]\n",
            " [1. 0. 1. 0. 1. 0. 1. 0.]\n",
            " [0. 1. 0. 1. 0. 1. 0. 1.]\n",
            " [1. 0. 1. 0. 1. 0. 1. 0.]\n",
            " [0. 1. 0. 1. 0. 1. 0. 1.]\n",
            " [1. 0. 1. 0. 1. 0. 1. 0.]]\n"
          ]
        }
      ],
      "source": [
        "arr = np.zeros((8,8))\n",
        "arr[1::2,::2] = 1\n",
        "arr[::2,1::2] = 1\n",
        "print(arr)"
      ]
    }
  ],
  "metadata": {
    "kernelspec": {
      "display_name": "Python 3",
      "language": "python",
      "name": "python3"
    },
    "language_info": {
      "codemirror_mode": {
        "name": "ipython",
        "version": 3
      },
      "file_extension": ".py",
      "mimetype": "text/x-python",
      "name": "python",
      "nbconvert_exporter": "python",
      "pygments_lexer": "ipython3",
      "version": "3.8.0"
    },
    "colab": {
      "provenance": [],
      "collapsed_sections": [],
      "include_colab_link": true
    }
  },
  "nbformat": 4,
  "nbformat_minor": 0
}